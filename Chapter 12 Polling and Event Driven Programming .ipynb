{
 "cells": [
  {
   "cell_type": "code",
   "execution_count": 4,
   "metadata": {},
   "outputs": [
    {
     "name": "stdout",
     "output_type": "stream",
     "text": [
      "Opening the front door\n"
     ]
    },
    {
     "ename": "FileNotFoundError",
     "evalue": "[Errno 2] No such file or directory: 'front_door.txt'",
     "output_type": "error",
     "traceback": [
      "\u001b[0;31m---------------------------------------------------------------------------\u001b[0m",
      "\u001b[0;31mFileNotFoundError\u001b[0m                         Traceback (most recent call last)",
      "\u001b[0;32m<ipython-input-4-d43ff6c7f023>\u001b[0m in \u001b[0;36m<module>\u001b[0;34m\u001b[0m\n\u001b[1;32m      8\u001b[0m \u001b[0;34m\u001b[0m\u001b[0m\n\u001b[1;32m      9\u001b[0m     \u001b[0mprint\u001b[0m\u001b[0;34m(\u001b[0m\u001b[0;34m'Opening the front door'\u001b[0m\u001b[0;34m)\u001b[0m\u001b[0;34m\u001b[0m\u001b[0;34m\u001b[0m\u001b[0m\n\u001b[0;32m---> 10\u001b[0;31m     \u001b[0mfront_door\u001b[0m \u001b[0;34m=\u001b[0m \u001b[0mopen\u001b[0m\u001b[0;34m(\u001b[0m\u001b[0;34m'front_door.txt'\u001b[0m\u001b[0;34m,\u001b[0m \u001b[0;34m'r'\u001b[0m\u001b[0;34m)\u001b[0m\u001b[0;34m\u001b[0m\u001b[0;34m\u001b[0m\u001b[0m\n\u001b[0m\u001b[1;32m     11\u001b[0m \u001b[0;34m\u001b[0m\u001b[0m\n\u001b[1;32m     12\u001b[0m     \u001b[0;32mif\u001b[0m \u001b[0;34m\"Pizza Guy\"\u001b[0m \u001b[0;32min\u001b[0m \u001b[0mfront_door\u001b[0m\u001b[0;34m:\u001b[0m\u001b[0;34m\u001b[0m\u001b[0;34m\u001b[0m\u001b[0m\n",
      "\u001b[0;31mFileNotFoundError\u001b[0m: [Errno 2] No such file or directory: 'front_door.txt'"
     ]
    }
   ],
   "source": [
    "\"\"\" Polling for Pizza to Cure My Hunger \"\"\"\n",
    "\n",
    "import time \n",
    "\n",
    "hungry = True; # I need a pizza!\n",
    "\n",
    "while(hungry):\n",
    "\n",
    "    print('Opening the front door')\n",
    "    front_door = open('front_door.txt', 'r')\n",
    "\n",
    "    if \"Pizza Guy\" in front_door:\n",
    "        print(\"Pizza's here!\")\n",
    "        hungry = False;\n",
    "    else:\n",
    "        print(\"Not yet...\")\n",
    "    print ('closong the door.')\n",
    "    front_door.close()\n",
    "    \n",
    "    time.sleep(1)\n",
    "\n",
    " "
   ]
  },
  {
   "cell_type": "code",
   "execution_count": null,
   "metadata": {},
   "outputs": [],
   "source": [
    "\"\"\" A Brief Study in Handling Life Events \"\"\"\n",
    "\n",
    "import tkinter\n",
    "import time \n",
    "\n",
    "# handler for timer event\n",
    "def alarm():\n",
    "    print('Calling the Pizza Company.')\n",
    "    \n",
    "# handler for ringing doorbell\n",
    "def doorbell():\n",
    "    print('Ding Dong!')\n",
    "    time.sleep(4)\n",
    "    print('Opening the Door')\n",
    "\n",
    "# handler for when the phone rings\n",
    "def phonecall():\n",
    "    print('Answering the phone.')\n",
    "    \n",
    "# create buttons and assign callbacks    \n",
    "root = tkinter.Tk()\n",
    "tkinter.Button(root, text='Ring Doorbell', command=doorbell).pack()\n",
    "tkinter.Button(root, text='Call Phone', command=phonecall).pack()\n",
    "\n",
    "# set a timer for 1 second\n",
    "root.after(4000, alarm)\n",
    "\n",
    "# start the event loop\n",
    "root.mainloop()"
   ]
  },
  {
   "cell_type": "code",
   "execution_count": null,
   "metadata": {},
   "outputs": [],
   "source": []
  }
 ],
 "metadata": {
  "kernelspec": {
   "display_name": "Python 3",
   "language": "python",
   "name": "python3"
  },
  "language_info": {
   "codemirror_mode": {
    "name": "ipython",
    "version": 3
   },
   "file_extension": ".py",
   "mimetype": "text/x-python",
   "name": "python",
   "nbconvert_exporter": "python",
   "pygments_lexer": "ipython3",
   "version": "3.7.6"
  }
 },
 "nbformat": 4,
 "nbformat_minor": 4
}
