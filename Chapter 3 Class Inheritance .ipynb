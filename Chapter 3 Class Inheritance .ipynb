{
 "cells": [
  {
   "cell_type": "code",
   "execution_count": 5,
   "metadata": {},
   "outputs": [],
   "source": [
    "\"\"\" A Garage Full of Classy Vehicles \"\"\"\n",
    "\n",
    "class Vehicle: # Base Vehicle class\n",
    "    \n",
    "    def __init__(self, color, manuf):\n",
    "        self.color = color\n",
    "        self.manuf = manuf\n",
    "        self.gas = 4 # a full tank of gas\n",
    "    \n",
    "    def drive(self):\n",
    "        if self.gas > 0:\n",
    "            self.gas -= 1\n",
    "            print('The {} {} goes VROOOM!'.format(self.color, self.manuf))\n",
    "        else:\n",
    "            print('The {} {} sputters out of gas.'.format(self.color, self.manuf))\n",
    "            \n",
    "class Car(Vehicle): # Inherits from Vehicle class\n",
    "    \n",
    "    # turn the radio on\n",
    "    def radio(self):    \n",
    "        print(\"Rockin' Tunes!\")\n",
    "\n",
    "    # open the window\n",
    "    def window(self):\n",
    "        print('Ahhh... fresh air!')\n",
    "            \n",
    "class Motorcycle(Vehicle): # Inherits from Vehicle class\n",
    "    \n",
    "    # put on motocycle helmet\n",
    "    def helmet(self):\n",
    "        print('Nice and safe!')"
   ]
  },
  {
   "cell_type": "code",
   "execution_count": 6,
   "metadata": {},
   "outputs": [],
   "source": [
    "my_car = Car ('blue','Fiat')"
   ]
  },
  {
   "cell_type": "code",
   "execution_count": 8,
   "metadata": {},
   "outputs": [],
   "source": [
    "my_bike = Motorcycle ('blue', 'silverstone')"
   ]
  },
  {
   "cell_type": "code",
   "execution_count": 9,
   "metadata": {},
   "outputs": [
    {
     "name": "stdout",
     "output_type": "stream",
     "text": [
      "The blue Fiat goes VROOOM!\n"
     ]
    }
   ],
   "source": [
    "my_car.drive()"
   ]
  },
  {
   "cell_type": "code",
   "execution_count": 10,
   "metadata": {},
   "outputs": [
    {
     "name": "stdout",
     "output_type": "stream",
     "text": [
      "The blue silverstone goes VROOOM!\n"
     ]
    }
   ],
   "source": [
    "my_bike.drive()"
   ]
  },
  {
   "cell_type": "code",
   "execution_count": 11,
   "metadata": {},
   "outputs": [
    {
     "name": "stdout",
     "output_type": "stream",
     "text": [
      "The blue silverstone goes VROOOM!\n"
     ]
    }
   ],
   "source": [
    "my_bike.drive()"
   ]
  },
  {
   "cell_type": "code",
   "execution_count": 12,
   "metadata": {},
   "outputs": [
    {
     "name": "stdout",
     "output_type": "stream",
     "text": [
      "The blue silverstone goes VROOOM!\n"
     ]
    }
   ],
   "source": [
    "my_bike.drive()"
   ]
  },
  {
   "cell_type": "code",
   "execution_count": 13,
   "metadata": {},
   "outputs": [
    {
     "name": "stdout",
     "output_type": "stream",
     "text": [
      "The blue silverstone goes VROOOM!\n"
     ]
    }
   ],
   "source": [
    "my_bike.drive()"
   ]
  },
  {
   "cell_type": "code",
   "execution_count": 14,
   "metadata": {},
   "outputs": [
    {
     "name": "stdout",
     "output_type": "stream",
     "text": [
      "The blue silverstone sputters out of gas.\n"
     ]
    }
   ],
   "source": [
    "my_bike.drive()"
   ]
  },
  {
   "cell_type": "code",
   "execution_count": 15,
   "metadata": {},
   "outputs": [
    {
     "name": "stdout",
     "output_type": "stream",
     "text": [
      "Rockin' Tunes!\n"
     ]
    }
   ],
   "source": [
    "my_car.radio()"
   ]
  },
  {
   "cell_type": "code",
   "execution_count": 16,
   "metadata": {},
   "outputs": [
    {
     "name": "stdout",
     "output_type": "stream",
     "text": [
      "Ahhh... fresh air!\n"
     ]
    }
   ],
   "source": [
    "my_car.window()"
   ]
  },
  {
   "cell_type": "code",
   "execution_count": 19,
   "metadata": {},
   "outputs": [
    {
     "ename": "AttributeError",
     "evalue": "'Motorcycle' object has no attribute 'window'",
     "output_type": "error",
     "traceback": [
      "\u001b[0;31m---------------------------------------------------------------------------\u001b[0m",
      "\u001b[0;31mAttributeError\u001b[0m                            Traceback (most recent call last)",
      "\u001b[0;32m<ipython-input-19-c71a9fd3b523>\u001b[0m in \u001b[0;36m<module>\u001b[0;34m\u001b[0m\n\u001b[0;32m----> 1\u001b[0;31m \u001b[0mmy_bike\u001b[0m\u001b[0;34m.\u001b[0m\u001b[0mwindow\u001b[0m \u001b[0;34m(\u001b[0m\u001b[0;34m)\u001b[0m\u001b[0;34m\u001b[0m\u001b[0;34m\u001b[0m\u001b[0m\n\u001b[0m",
      "\u001b[0;31mAttributeError\u001b[0m: 'Motorcycle' object has no attribute 'window'"
     ]
    }
   ],
   "source": [
    "my_bike.window ()"
   ]
  },
  {
   "cell_type": "code",
   "execution_count": 26,
   "metadata": {},
   "outputs": [],
   "source": [
    "\"\"\" A Garage Full of Classy Vehicles \"\"\"\n",
    "\n",
    "class Vehicle: # Base Vehicle class\n",
    "    \n",
    "    def __init__(self, color, manuf):\n",
    "        self.color = color\n",
    "        self.manuf = manuf\n",
    "        self.gas = 4 # a full tank of gas\n",
    "    \n",
    "    def drive(self):\n",
    "        if self.gas > 0:\n",
    "            self.gas -= 1\n",
    "            print('The {} {} goes VROOOM!'.format(self.color, self.manuf))\n",
    "        else:\n",
    "            print('The {} {} sputters out of gas.'.format(self.color, self.manuf))\n",
    "            \n",
    "class Car(Vehicle): # Inherits from Vehicle class\n",
    "    \n",
    "    # turn the radio on\n",
    "    def radio(self):    \n",
    "        print(\"Rockin' Tunes!\")\n",
    "\n",
    "    # open the window\n",
    "    def window(self):\n",
    "        print('Ahhh... fresh air!')\n",
    "            \n",
    "class Motorcycle(Vehicle): # Inherits from Vehicle class\n",
    "    \n",
    "    # put on motocycle helmet\n",
    "    def helmet(self):\n",
    "        print('Nice and safe!')\n",
    "        \n",
    "class ECar(Car):\n",
    "\n",
    "    def drive(self):\n",
    "            print('The {} {} goes shhhhh!'.format(self.color, self.manuf))\n",
    "        "
   ]
  },
  {
   "cell_type": "code",
   "execution_count": 27,
   "metadata": {},
   "outputs": [],
   "source": [
    "my_ecar = ECar('pink', 'spider')"
   ]
  },
  {
   "cell_type": "code",
   "execution_count": 29,
   "metadata": {},
   "outputs": [
    {
     "name": "stdout",
     "output_type": "stream",
     "text": [
      "Rockin' Tunes!\n"
     ]
    }
   ],
   "source": [
    "my_ecar.radio()"
   ]
  },
  {
   "cell_type": "code",
   "execution_count": 30,
   "metadata": {},
   "outputs": [
    {
     "name": "stdout",
     "output_type": "stream",
     "text": [
      "The pink spider goes shhhhh!\n"
     ]
    }
   ],
   "source": [
    "my_ecar.drive()"
   ]
  },
  {
   "cell_type": "code",
   "execution_count": 33,
   "metadata": {},
   "outputs": [
    {
     "name": "stdout",
     "output_type": "stream",
     "text": [
      "Ahhh... fresh air!\n"
     ]
    }
   ],
   "source": [
    "my_ecar.window()"
   ]
  },
  {
   "cell_type": "code",
   "execution_count": null,
   "metadata": {},
   "outputs": [],
   "source": []
  }
 ],
 "metadata": {
  "kernelspec": {
   "display_name": "Python 3",
   "language": "python",
   "name": "python3"
  },
  "language_info": {
   "codemirror_mode": {
    "name": "ipython",
    "version": 3
   },
   "file_extension": ".py",
   "mimetype": "text/x-python",
   "name": "python",
   "nbconvert_exporter": "python",
   "pygments_lexer": "ipython3",
   "version": "3.7.6"
  }
 },
 "nbformat": 4,
 "nbformat_minor": 4
}
