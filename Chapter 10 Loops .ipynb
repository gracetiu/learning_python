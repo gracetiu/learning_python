{
 "cells": [
  {
   "cell_type": "code",
   "execution_count": 12,
   "metadata": {},
   "outputs": [
    {
     "name": "stdout",
     "output_type": "stream",
     "text": [
      "Putting bowl in the dishwasher\n",
      "Putting plate in the dishwasher\n",
      "Putting cup in the dishwasher\n"
     ]
    }
   ],
   "source": [
    "\"\"\" Loading the Dishwasher \"\"\"\n",
    "\n",
    "# dirty dishes in the sink\n",
    "sink = ['bowl','plate','cup']\n",
    "\n",
    "for dish in sink:\n",
    "    print('Putting {} in the dishwasher'.format(dish))"
   ]
  },
  {
   "cell_type": "code",
   "execution_count": 10,
   "metadata": {},
   "outputs": [
    {
     "data": {
      "text/plain": [
       "['bowl', 'plate', 'cup']"
      ]
     },
     "execution_count": 10,
     "metadata": {},
     "output_type": "execute_result"
    }
   ],
   "source": [
    "sink "
   ]
  },
  {
   "cell_type": "code",
   "execution_count": 13,
   "metadata": {},
   "outputs": [
    {
     "name": "stdout",
     "output_type": "stream",
     "text": [
      "Putting bowl in the dishwasher\n",
      "Putting cup in the dishwasher\n"
     ]
    }
   ],
   "source": [
    "\"\"\" Loading the Dishwasher \"\"\"\n",
    "\n",
    "# dirty dishes in the sink\n",
    "sink = ['bowl','plate','cup']\n",
    "\n",
    "for dish in sink:\n",
    "    print('Putting {} in the dishwasher'.format(dish))\n",
    "    sink.remove(dish)"
   ]
  },
  {
   "cell_type": "code",
   "execution_count": 14,
   "metadata": {},
   "outputs": [
    {
     "data": {
      "text/plain": [
       "['plate']"
      ]
     },
     "execution_count": 14,
     "metadata": {},
     "output_type": "execute_result"
    }
   ],
   "source": [
    "sink"
   ]
  },
  {
   "cell_type": "code",
   "execution_count": 18,
   "metadata": {},
   "outputs": [
    {
     "name": "stdout",
     "output_type": "stream",
     "text": [
      "Putting bowl in the dishwasher\n",
      "Putting plate in the dishwasher\n",
      "Putting cup in the dishwasher\n"
     ]
    }
   ],
   "source": [
    "\"\"\" Loading the Dishwasher \"\"\"\n",
    "\n",
    "# dirty dishes in the sink\n",
    "sink = ['bowl','plate','cup']\n",
    "\n",
    "for dish in list (sink):\n",
    "    print('Putting {} in the dishwasher'.format(dish))\n",
    "    sink.remove(dish)"
   ]
  },
  {
   "cell_type": "code",
   "execution_count": 19,
   "metadata": {},
   "outputs": [
    {
     "data": {
      "text/plain": [
       "[]"
      ]
     },
     "execution_count": 19,
     "metadata": {},
     "output_type": "execute_result"
    }
   ],
   "source": [
    "sink"
   ]
  },
  {
   "cell_type": "code",
   "execution_count": 20,
   "metadata": {},
   "outputs": [
    {
     "name": "stdout",
     "output_type": "stream",
     "text": [
      "Scrub the pan: 1\n",
      "Still dirty...\n",
      "Scrub the pan: 2\n",
      "Still dirty...\n",
      "Scrub the pan: 3\n",
      "All clean!\n"
     ]
    }
   ],
   "source": [
    "\"\"\" Scrubbing A Stuborn Pan \"\"\"\n",
    "\n",
    "import random\n",
    "\n",
    "dirty = True # state of the pan\n",
    "scrub_count = 0 # number of scrubs\n",
    "\n",
    "while(dirty):\n",
    "\n",
    "    scrub_count += 1\n",
    "    print('Scrub the pan: {}'.format(scrub_count))\n",
    "    \n",
    "    if not random.randint(0,9):\n",
    "        print('All clean!')\n",
    "        dirty = False\n",
    "    else:\n",
    "        print('Still dirty...')  \n",
    "\n"
   ]
  },
  {
   "cell_type": "code",
   "execution_count": 23,
   "metadata": {},
   "outputs": [
    {
     "name": "stdout",
     "output_type": "stream",
     "text": [
      "Scrub the pan: 1\n",
      "Still dirty...\n",
      "Rinse & check if the pan is clean.\n",
      "Scrub the pan: 2\n",
      "Still dirty...\n",
      "Rinse & check if the pan is clean.\n",
      "Scrub the pan: 3\n",
      "Still dirty...\n",
      "Rinse & check if the pan is clean.\n",
      "Scrub the pan: 4\n",
      "Still dirty...\n",
      "Rinse & check if the pan is clean.\n",
      "Scrub the pan: 5\n",
      "Still dirty...\n",
      "Rinse & check if the pan is clean.\n",
      "Scrub the pan: 6\n",
      "Still dirty...\n",
      "Rinse & check if the pan is clean.\n",
      "Scrub the pan: 7\n",
      "Still dirty...\n",
      "Rinse & check if the pan is clean.\n",
      "Scrub the pan: 8\n",
      "Still dirty...\n",
      "Rinse & check if the pan is clean.\n",
      "Scrub the pan: 9\n",
      "All clean!\n",
      "Rinse & check if the pan is clean.\n"
     ]
    }
   ],
   "source": [
    "\"\"\" Scrubbing A Stuborn Pan \"\"\"\n",
    "\n",
    "import random\n",
    "\n",
    "dirty = True # state of the pan\n",
    "scrub_count = 0 # number of scrubs\n",
    "\n",
    "while(dirty):\n",
    "\n",
    "    scrub_count += 1\n",
    "    print('Scrub the pan: {}'.format(scrub_count))\n",
    "     \n",
    "    if not random.randint(0,9):\n",
    "        print('All clean!')\n",
    "        dirty = False\n",
    "    else:\n",
    "        print('Still dirty...')  \n",
    "    \n",
    "    print('Rinse & check if the pan is clean.')\n",
    "    \n",
    "\n",
    "    \n",
    "\n"
   ]
  },
  {
   "cell_type": "code",
   "execution_count": 24,
   "metadata": {},
   "outputs": [
    {
     "name": "stdout",
     "output_type": "stream",
     "text": [
      "Putting plate in the cabinet\n",
      "Putting bowl in the cabinet\n",
      "Putting cup in the cabinet\n",
      "Putting knife in the cabinet\n",
      "Putting fork in the cabinet\n",
      "Putting spoon in the cabinet\n",
      "Putting plate in the cabinet\n",
      "Putting spoon in the cabinet\n",
      "Putting bowl in the cabinet\n",
      "Out of space!\n"
     ]
    }
   ],
   "source": [
    "\"\"\" Putting Away Clean Dishes \"\"\"\n",
    "\n",
    "import random\n",
    "\n",
    "# 20 clean dishes in dishwasher\n",
    "dishwasher = ['plate','bowl','cup','knife','fork',\n",
    "              'spoon','plate','spoon','bowl','cup',\n",
    "              'knife','cup','cup','fork','bowl',\n",
    "              'fork','plate','cup','spoon','knife']\n",
    "\n",
    "for dish in list(dishwasher):\n",
    "\n",
    "    # check space left in cabinet\n",
    "    if not random.randint(0,19):\n",
    "        print('Out of space!')\n",
    "        break\n",
    "    else:\n",
    "        print('Putting {} in the cabinet'.format(dish))\n",
    "        dishwasher.remove(dish)"
   ]
  },
  {
   "cell_type": "code",
   "execution_count": 25,
   "metadata": {},
   "outputs": [
    {
     "name": "stdout",
     "output_type": "stream",
     "text": [
      "Putting plate in the cabinet\n",
      "Putting bowl in the cabinet\n",
      "Putting cup in the cabinet\n",
      "Putting knife in the cabinet\n",
      "Putting fork in the cabinet\n",
      "Putting spoon in the cabinet\n",
      "Putting plate in the cabinet\n",
      "Putting spoon in the cabinet\n",
      "Putting bowl in the cabinet\n",
      "Putting cup in the cabinet\n",
      "Putting knife in the cabinet\n",
      "Putting cup in the cabinet\n",
      "Putting cup in the cabinet\n",
      "Putting fork in the cabinet\n",
      "Putting bowl in the cabinet\n",
      "Putting fork in the cabinet\n",
      "Putting plate in the cabinet\n",
      "Putting cup in the cabinet\n",
      "Putting spoon in the cabinet\n",
      "Putting knife in the cabinet\n"
     ]
    }
   ],
   "source": [
    "\"\"\" Putting Away Clean Dishes \"\"\"\n",
    "\n",
    "import random\n",
    "\n",
    "# 20 clean dishes in dishwasher\n",
    "dishwasher = ['plate','bowl','cup','knife','fork',\n",
    "              'spoon','plate','spoon','bowl','cup',\n",
    "              'knife','cup','cup','fork','bowl',\n",
    "              'fork','plate','cup','spoon','knife']\n",
    "\n",
    "for dish in list(dishwasher):\n",
    "\n",
    "    # check space left in cabinet\n",
    "    if not random.randint(0,19):\n",
    "        print('Out of space!')\n",
    "        break\n",
    "    else:\n",
    "        print('Putting {} in the cabinet'.format(dish))\n",
    "        dishwasher.remove(dish)"
   ]
  },
  {
   "cell_type": "code",
   "execution_count": null,
   "metadata": {},
   "outputs": [],
   "source": []
  }
 ],
 "metadata": {
  "kernelspec": {
   "display_name": "Python 3",
   "language": "python",
   "name": "python3"
  },
  "language_info": {
   "codemirror_mode": {
    "name": "ipython",
    "version": 3
   },
   "file_extension": ".py",
   "mimetype": "text/x-python",
   "name": "python",
   "nbconvert_exporter": "python",
   "pygments_lexer": "ipython3",
   "version": "3.7.6"
  }
 },
 "nbformat": 4,
 "nbformat_minor": 4
}
