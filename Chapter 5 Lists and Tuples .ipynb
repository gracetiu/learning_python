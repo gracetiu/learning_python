{
 "cells": [
  {
   "cell_type": "code",
   "execution_count": 2,
   "metadata": {},
   "outputs": [],
   "source": [
    "row = ['dress', 'shirt', 'skirt', 'trouserts']"
   ]
  },
  {
   "cell_type": "code",
   "execution_count": 5,
   "metadata": {},
   "outputs": [],
   "source": [
    "row.append('socks')"
   ]
  },
  {
   "cell_type": "code",
   "execution_count": 6,
   "metadata": {},
   "outputs": [
    {
     "data": {
      "text/plain": [
       "['dress', 'shirt', 'skirt', 'trouserts', 'dress', 'socks']"
      ]
     },
     "execution_count": 6,
     "metadata": {},
     "output_type": "execute_result"
    }
   ],
   "source": [
    "row"
   ]
  },
  {
   "cell_type": "code",
   "execution_count": 7,
   "metadata": {},
   "outputs": [
    {
     "data": {
      "text/plain": [
       "'trouserts'"
      ]
     },
     "execution_count": 7,
     "metadata": {},
     "output_type": "execute_result"
    }
   ],
   "source": [
    "row [3]"
   ]
  },
  {
   "cell_type": "code",
   "execution_count": 8,
   "metadata": {},
   "outputs": [],
   "source": [
    "row[2] = 'trainers'"
   ]
  },
  {
   "cell_type": "code",
   "execution_count": 9,
   "metadata": {},
   "outputs": [
    {
     "data": {
      "text/plain": [
       "['dress', 'shirt', 'trainers', 'trouserts', 'dress', 'socks']"
      ]
     },
     "execution_count": 9,
     "metadata": {},
     "output_type": "execute_result"
    }
   ],
   "source": [
    "row"
   ]
  },
  {
   "cell_type": "code",
   "execution_count": 10,
   "metadata": {},
   "outputs": [],
   "source": [
    "row.append ('flex')"
   ]
  },
  {
   "cell_type": "code",
   "execution_count": 11,
   "metadata": {},
   "outputs": [
    {
     "data": {
      "text/plain": [
       "['dress', 'shirt', 'trainers', 'trouserts', 'dress', 'socks', 'flex']"
      ]
     },
     "execution_count": 11,
     "metadata": {},
     "output_type": "execute_result"
    }
   ],
   "source": [
    "row"
   ]
  },
  {
   "cell_type": "code",
   "execution_count": 13,
   "metadata": {},
   "outputs": [],
   "source": [
    "row.insert(0,'smile')"
   ]
  },
  {
   "cell_type": "code",
   "execution_count": 14,
   "metadata": {},
   "outputs": [
    {
     "data": {
      "text/plain": [
       "['smile', 'dress', 'shirt', 'trainers', 'trouserts', 'dress', 'socks', 'flex']"
      ]
     },
     "execution_count": 14,
     "metadata": {},
     "output_type": "execute_result"
    }
   ],
   "source": [
    "row"
   ]
  },
  {
   "cell_type": "code",
   "execution_count": 15,
   "metadata": {},
   "outputs": [
    {
     "data": {
      "text/plain": [
       "'trainers'"
      ]
     },
     "execution_count": 15,
     "metadata": {},
     "output_type": "execute_result"
    }
   ],
   "source": [
    "row [3]"
   ]
  },
  {
   "cell_type": "code",
   "execution_count": 17,
   "metadata": {},
   "outputs": [
    {
     "data": {
      "text/plain": [
       "4"
      ]
     },
     "execution_count": 17,
     "metadata": {},
     "output_type": "execute_result"
    }
   ],
   "source": [
    "row.index('trouserts')"
   ]
  },
  {
   "cell_type": "code",
   "execution_count": 18,
   "metadata": {},
   "outputs": [
    {
     "data": {
      "text/plain": [
       "'trouserts'"
      ]
     },
     "execution_count": 18,
     "metadata": {},
     "output_type": "execute_result"
    }
   ],
   "source": [
    "row.pop (4)"
   ]
  },
  {
   "cell_type": "code",
   "execution_count": 19,
   "metadata": {},
   "outputs": [
    {
     "data": {
      "text/plain": [
       "['smile', 'dress', 'shirt', 'trainers', 'dress', 'socks', 'flex']"
      ]
     },
     "execution_count": 19,
     "metadata": {},
     "output_type": "execute_result"
    }
   ],
   "source": [
    "row"
   ]
  },
  {
   "cell_type": "code",
   "execution_count": 20,
   "metadata": {},
   "outputs": [],
   "source": [
    "row.remove ('shirt')"
   ]
  },
  {
   "cell_type": "code",
   "execution_count": 21,
   "metadata": {},
   "outputs": [
    {
     "data": {
      "text/plain": [
       "['smile', 'dress', 'trainers', 'dress', 'socks', 'flex']"
      ]
     },
     "execution_count": 21,
     "metadata": {},
     "output_type": "execute_result"
    }
   ],
   "source": [
    "row"
   ]
  },
  {
   "cell_type": "code",
   "execution_count": 22,
   "metadata": {},
   "outputs": [],
   "source": [
    "\"\"\" A 3-Dimensional Valet Service \"\"\"\n",
    "\n",
    "# 2D list of lists\n",
    "#  - index cars by row, spot\n",
    "lot_2d = [['Toyota','Audi','BMW'], # 0th row\n",
    "          ['Lexus','Jeep'],        # 1st row\n",
    "          ['Honda','Kia','Mazda']] # 2nd row\n",
    "\n",
    "# 3D list of lists of lists\n",
    "#  - index cars by floor, row, spot\n",
    "lot_3d = [[['Telsa','Fiat','BMW'], # 0th floor\n",
    "           ['Honda','Jeep'],        \n",
    "           ['Saab','Kia','Ford']],\n",
    "          [['Subaru','Nissan'],    # 1st floor\n",
    "           ['Volvo']],\n",
    "          [['Mazda','Chevy'],      # 2nd floor\n",
    "           [],\n",
    "           ['Volkswagen']]]"
   ]
  },
  {
   "cell_type": "code",
   "execution_count": 23,
   "metadata": {},
   "outputs": [
    {
     "data": {
      "text/plain": [
       "[['Toyota', 'Audi', 'BMW'], ['Lexus', 'Jeep'], ['Honda', 'Kia', 'Mazda']]"
      ]
     },
     "execution_count": 23,
     "metadata": {},
     "output_type": "execute_result"
    }
   ],
   "source": [
    "lot_2d"
   ]
  },
  {
   "cell_type": "code",
   "execution_count": 30,
   "metadata": {},
   "outputs": [
    {
     "data": {
      "text/plain": [
       "['Lexus', 'Jeep']"
      ]
     },
     "execution_count": 30,
     "metadata": {},
     "output_type": "execute_result"
    }
   ],
   "source": [
    "lot_2d[1]"
   ]
  },
  {
   "cell_type": "code",
   "execution_count": 31,
   "metadata": {},
   "outputs": [
    {
     "data": {
      "text/plain": [
       "'Jeep'"
      ]
     },
     "execution_count": 31,
     "metadata": {},
     "output_type": "execute_result"
    }
   ],
   "source": [
    "lot_2d[1][1]"
   ]
  },
  {
   "cell_type": "code",
   "execution_count": 33,
   "metadata": {},
   "outputs": [
    {
     "data": {
      "text/plain": [
       "['Volkswagen']"
      ]
     },
     "execution_count": 33,
     "metadata": {},
     "output_type": "execute_result"
    }
   ],
   "source": [
    "lot_3d[2][2]"
   ]
  },
  {
   "cell_type": "code",
   "execution_count": 36,
   "metadata": {},
   "outputs": [
    {
     "data": {
      "text/plain": [
       "'Honda'"
      ]
     },
     "execution_count": 36,
     "metadata": {},
     "output_type": "execute_result"
    }
   ],
   "source": [
    "lot_3d[0][1][0]"
   ]
  },
  {
   "cell_type": "code",
   "execution_count": 37,
   "metadata": {},
   "outputs": [
    {
     "name": "stdout",
     "output_type": "stream",
     "text": [
      "[['Telsa', 'Fiat', 'BMW'], ['Honda', 'Jeep'], ['Saab', 'Kia', 'Ford']]\n",
      "[['Subaru', 'Nissan'], ['Volvo']]\n",
      "[['Mazda', 'Chevy'], [], ['Volkswagen']]\n"
     ]
    }
   ],
   "source": [
    "for car in lot_3d:\n",
    "    print(car)"
   ]
  },
  {
   "cell_type": "code",
   "execution_count": 39,
   "metadata": {},
   "outputs": [
    {
     "name": "stdout",
     "output_type": "stream",
     "text": [
      "Telsa\n",
      "Fiat\n",
      "BMW\n",
      "Honda\n",
      "Jeep\n",
      "Saab\n",
      "Kia\n",
      "Ford\n",
      "Subaru\n",
      "Nissan\n",
      "Volvo\n",
      "Mazda\n",
      "Chevy\n",
      "Volkswagen\n"
     ]
    }
   ],
   "source": [
    "for floor in lot_3d:\n",
    "    for row in floor:\n",
    "        for car in row:\n",
    "            print(car)"
   ]
  },
  {
   "cell_type": "code",
   "execution_count": 43,
   "metadata": {},
   "outputs": [],
   "source": [
    "my_tuple = ('g','r','a','c','e',9,6)"
   ]
  },
  {
   "cell_type": "code",
   "execution_count": 44,
   "metadata": {},
   "outputs": [
    {
     "data": {
      "text/plain": [
       "('g', 'r', 'a', 'c', 'e', 9, 6)"
      ]
     },
     "execution_count": 44,
     "metadata": {},
     "output_type": "execute_result"
    }
   ],
   "source": [
    "my_tuple"
   ]
  },
  {
   "cell_type": "code",
   "execution_count": 45,
   "metadata": {},
   "outputs": [
    {
     "data": {
      "text/plain": [
       "'c'"
      ]
     },
     "execution_count": 45,
     "metadata": {},
     "output_type": "execute_result"
    }
   ],
   "source": [
    "my_tuple [3]"
   ]
  },
  {
   "cell_type": "code",
   "execution_count": 48,
   "metadata": {},
   "outputs": [
    {
     "ename": "TypeError",
     "evalue": "'tuple' object does not support item assignment",
     "output_type": "error",
     "traceback": [
      "\u001b[0;31m---------------------------------------------------------------------------\u001b[0m",
      "\u001b[0;31mTypeError\u001b[0m                                 Traceback (most recent call last)",
      "\u001b[0;32m<ipython-input-48-eaa38619cbf4>\u001b[0m in \u001b[0;36m<module>\u001b[0;34m\u001b[0m\n\u001b[0;32m----> 1\u001b[0;31m \u001b[0mmy_tuple\u001b[0m\u001b[0;34m[\u001b[0m\u001b[0;36m3\u001b[0m\u001b[0;34m]\u001b[0m \u001b[0;34m=\u001b[0m \u001b[0;34m'h'\u001b[0m\u001b[0;34m\u001b[0m\u001b[0;34m\u001b[0m\u001b[0m\n\u001b[0m",
      "\u001b[0;31mTypeError\u001b[0m: 'tuple' object does not support item assignment"
     ]
    }
   ],
   "source": [
    "my_tuple[3] = 'h'"
   ]
  },
  {
   "cell_type": "code",
   "execution_count": 54,
   "metadata": {},
   "outputs": [
    {
     "name": "stdout",
     "output_type": "stream",
     "text": [
      "coords: (184, 261)\n",
      "X: 184\n",
      "Y: 261\n",
      "coords: (184, 261)\n",
      "X: 184\n",
      "Y: 261\n",
      "coords: (184, 261)\n",
      "X: 184\n",
      "Y: 261\n",
      "coords: (184, 261)\n",
      "X: 184\n",
      "Y: 261\n",
      "coords: (184, 261)\n",
      "X: 184\n",
      "Y: 261\n",
      "coords: (223, 204)\n",
      "X: 223\n",
      "Y: 204\n",
      "coords: (223, 260)\n",
      "X: 223\n",
      "Y: 260\n",
      "coords: (195, 337)\n",
      "X: 195\n",
      "Y: 337\n",
      "coords: (150, 316)\n",
      "X: 150\n",
      "Y: 316\n",
      "coords: (151, 264)\n",
      "X: 151\n",
      "Y: 264\n"
     ]
    }
   ],
   "source": [
    "\"\"\" Where's My Mouse? \"\"\"\n",
    "import tkinter\n",
    "\n",
    "def mouse_click(event):\n",
    "\n",
    "    # retrieve XY coords as a tuple\n",
    "    coords = root.winfo_pointerxy()\n",
    "    print('coords: {}'.format(coords))\n",
    "    print('X: {}'.format(coords[0]))\n",
    "    print('Y: {}'.format(coords[1]))\n",
    "    \n",
    "root = tkinter.Tk()\n",
    "root.bind('<Button>', mouse_click)\n",
    "root.mainloop()"
   ]
  },
  {
   "cell_type": "code",
   "execution_count": null,
   "metadata": {},
   "outputs": [],
   "source": []
  }
 ],
 "metadata": {
  "kernelspec": {
   "display_name": "Python 3",
   "language": "python",
   "name": "python3"
  },
  "language_info": {
   "codemirror_mode": {
    "name": "ipython",
    "version": 3
   },
   "file_extension": ".py",
   "mimetype": "text/x-python",
   "name": "python",
   "nbconvert_exporter": "python",
   "pygments_lexer": "ipython3",
   "version": "3.7.6"
  }
 },
 "nbformat": 4,
 "nbformat_minor": 4
}
