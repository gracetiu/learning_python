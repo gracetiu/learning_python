{
 "cells": [
  {
   "cell_type": "code",
   "execution_count": 1,
   "metadata": {},
   "outputs": [
    {
     "name": "stdout",
     "output_type": "stream",
     "text": [
      "Get a vegan pizza.\n"
     ]
    }
   ],
   "source": [
    "\"\"\" Ordering A Pizza That Verne Can Eat \"\"\"\n",
    "\n",
    "# things that Verne does not eat\n",
    "diet_restrictions = set(['meat','cheese'])\n",
    "\n",
    "# decide which pizza to order      \n",
    "if 'meat' and 'cheese' in diet_restrictions:\n",
    "    print('Get a vegan pizza.')\n",
    "\n",
    "elif 'meat' in diet_restrictions:\n",
    "    print('Get a cheese pizza.')\n",
    "    \n",
    "else:\n",
    "    print('Get something else.')\n"
   ]
  },
  {
   "cell_type": "code",
   "execution_count": 3,
   "metadata": {},
   "outputs": [
    {
     "name": "stdout",
     "output_type": "stream",
     "text": [
      "Get a cheese pizza.\n"
     ]
    }
   ],
   "source": [
    "\"\"\" Ordering A Pizza That Verne Can Eat \"\"\"\n",
    "\n",
    "# things that Verne does not eat\n",
    "diet_restrictions = set(['meat'])\n",
    "\n",
    "# decide which pizza to order      \n",
    "if 'cheese' in diet_restrictions:\n",
    "    print('Get a vegan pizza.')\n",
    "\n",
    "elif 'meat' in diet_restrictions:\n",
    "    print('Get a cheese pizza.')\n",
    "    \n",
    "else:\n",
    "    print('Get something else.')"
   ]
  },
  {
   "cell_type": "code",
   "execution_count": 4,
   "metadata": {},
   "outputs": [
    {
     "name": "stdout",
     "output_type": "stream",
     "text": [
      "Order the Hawaiian pizza.\n"
     ]
    }
   ],
   "source": [
    "\"\"\" I'll Have the Special! \"\"\"\n",
    "\n",
    "specials = {'Sunday'    : 'spinach', \n",
    "            'Monday'    : 'mushroom', \n",
    "            'Tuesday'   : 'pepperoni', \n",
    "            'Wednesday' : 'veggie',\n",
    "            'Thursday'  : 'bbq chicken',\n",
    "            'Friday'    : 'sausage',\n",
    "            'Saturday'  : 'Hawaiian'}\n",
    "\n",
    "def order(day):\n",
    "    pizza = specials[day]\n",
    "    print('Order the {} pizza.'.format(pizza))\n",
    "\n",
    "# order the Saturday special!\n",
    "order('Saturday')\n"
   ]
  },
  {
   "cell_type": "code",
   "execution_count": 5,
   "metadata": {},
   "outputs": [
    {
     "name": "stdout",
     "output_type": "stream",
     "text": [
      "Order the spinach pizza.\n"
     ]
    }
   ],
   "source": [
    "order ('Sunday')"
   ]
  },
  {
   "cell_type": "code",
   "execution_count": null,
   "metadata": {},
   "outputs": [],
   "source": []
  }
 ],
 "metadata": {
  "kernelspec": {
   "display_name": "Python 3",
   "language": "python",
   "name": "python3"
  },
  "language_info": {
   "codemirror_mode": {
    "name": "ipython",
    "version": 3
   },
   "file_extension": ".py",
   "mimetype": "text/x-python",
   "name": "python",
   "nbconvert_exporter": "python",
   "pygments_lexer": "ipython3",
   "version": "3.7.6"
  }
 },
 "nbformat": 4,
 "nbformat_minor": 4
}
