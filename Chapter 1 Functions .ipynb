{
 "cells": [
  {
   "cell_type": "code",
   "execution_count": 3,
   "metadata": {},
   "outputs": [
    {
     "name": "stdout",
     "output_type": "stream",
     "text": [
      "writing book\n"
     ]
    }
   ],
   "source": [
    "print('writing book')"
   ]
  },
  {
   "cell_type": "code",
   "execution_count": 11,
   "metadata": {},
   "outputs": [
    {
     "name": "stdout",
     "output_type": "stream",
     "text": [
      "Mixing the ingredients\n",
      "Pouring the mixture into a frying pan\n",
      "Cooking the first side\n",
      "Flipping it!\n",
      "Cooking the other side\n",
      "Mixing the ingredients\n",
      "Pouring the mixture into a frying pan\n",
      "Cooking the first side\n",
      "Flipping it!\n",
      "Cooking the other side\n",
      "a tasty omelette\n",
      "a tasty omelette\n"
     ]
    }
   ],
   "source": [
    "def make_omelette():\n",
    "    print('Mixing the ingredients')\n",
    "    print('Pouring the mixture into a frying pan')\n",
    "    print('Cooking the first side')\n",
    "    print('Flipping it!')\n",
    "    print('Cooking the other side')\n",
    "    omelette = 'a tasty omelette'\n",
    "    return omelette\n",
    "\n",
    "# make two omelettes\n",
    "omelette1 = make_omelette()\n",
    "omelette2 = make_omelette()\n",
    "\n",
    "print(omelette1)\n",
    "print(omelette2)"
   ]
  },
  {
   "cell_type": "code",
   "execution_count": 18,
   "metadata": {},
   "outputs": [],
   "source": [
    "def write_dissertation():\n",
    "    print ('speak to adviser') \n",
    "    print ('talk about ideas')\n",
    "    print ('get title')\n",
    "    print ('run experiments') \n",
    "    paper = 'complete'\n",
    "    return paper\n"
   ]
  },
  {
   "cell_type": "code",
   "execution_count": 19,
   "metadata": {},
   "outputs": [
    {
     "name": "stdout",
     "output_type": "stream",
     "text": [
      "speak to adviser\n",
      "talk about ideas\n",
      "get title\n",
      "run experiments\n"
     ]
    },
    {
     "data": {
      "text/plain": [
       "'complete'"
      ]
     },
     "execution_count": 19,
     "metadata": {},
     "output_type": "execute_result"
    }
   ],
   "source": [
    "write_dissertation()"
   ]
  },
  {
   "cell_type": "code",
   "execution_count": 20,
   "metadata": {},
   "outputs": [
    {
     "name": "stdout",
     "output_type": "stream",
     "text": [
      "speak to adviser\n",
      "talk about ideas\n",
      "get title\n",
      "run experiments\n",
      "speak to adviser\n",
      "talk about ideas\n",
      "get title\n",
      "run experiments\n"
     ]
    }
   ],
   "source": [
    "paper1 = write_dissertation()\n",
    "paper2 = write_dissertation()"
   ]
  },
  {
   "cell_type": "code",
   "execution_count": 10,
   "metadata": {},
   "outputs": [
    {
     "data": {
      "text/plain": [
       "105.34782608695652"
      ]
     },
     "execution_count": 10,
     "metadata": {},
     "output_type": "execute_result"
    }
   ],
   "source": [
    "2423/23"
   ]
  },
  {
   "cell_type": "code",
   "execution_count": 21,
   "metadata": {},
   "outputs": [],
   "source": [
    "def print2(string):\n",
    "    return string"
   ]
  },
  {
   "cell_type": "code",
   "execution_count": 24,
   "metadata": {},
   "outputs": [
    {
     "data": {
      "text/plain": [
       "'sdfsdf'"
      ]
     },
     "execution_count": 24,
     "metadata": {},
     "output_type": "execute_result"
    }
   ],
   "source": [
    "hello = 'sdfsdf'\n",
    "print2(hello)"
   ]
  },
  {
   "cell_type": "code",
   "execution_count": 37,
   "metadata": {},
   "outputs": [],
   "source": [
    "def double(number):\n",
    "    return number*2"
   ]
  },
  {
   "cell_type": "code",
   "execution_count": 38,
   "metadata": {},
   "outputs": [
    {
     "data": {
      "text/plain": [
       "100"
      ]
     },
     "execution_count": 38,
     "metadata": {},
     "output_type": "execute_result"
    }
   ],
   "source": [
    "double(50)"
   ]
  },
  {
   "cell_type": "code",
   "execution_count": 32,
   "metadata": {},
   "outputs": [],
   "source": [
    "def mix_and_cook():\n",
    "    print('Mixing the ingredients')\n",
    "    print('Pouring the mixture into a frying pan')\n",
    "    print ('drink water')\n",
    "    print('Cooking the first side')\n",
    "    print('Flipping it!')\n",
    "    print('Cooking the other side')\n",
    "\n",
    "def make_coffee(*ingredient):\n",
    "    mix_and_cook()\n",
    "    coffee = f'a delicious {ingredient} coffee'\n",
    "    return coffee\n",
    "\n",
    "def make_pancake():\n",
    "    mix_and_cook()\n",
    "    pancake = 'a delicious pancake'\n",
    "    return pancake \n"
   ]
  },
  {
   "cell_type": "code",
   "execution_count": 33,
   "metadata": {},
   "outputs": [
    {
     "name": "stdout",
     "output_type": "stream",
     "text": [
      "Mixing the ingredients\n",
      "Pouring the mixture into a frying pan\n",
      "drink water\n",
      "Cooking the first side\n",
      "Flipping it!\n",
      "Cooking the other side\n"
     ]
    }
   ],
   "source": [
    "mix_and_cook()"
   ]
  },
  {
   "cell_type": "code",
   "execution_count": 40,
   "metadata": {},
   "outputs": [
    {
     "data": {
      "text/plain": [
       "5"
      ]
     },
     "execution_count": 40,
     "metadata": {},
     "output_type": "execute_result"
    }
   ],
   "source": [
    "names = ['Grace','Jakub']\n",
    "len(names)\n",
    "name='abcde'\n",
    "len(name)"
   ]
  },
  {
   "cell_type": "code",
   "execution_count": 35,
   "metadata": {},
   "outputs": [
    {
     "name": "stdout",
     "output_type": "stream",
     "text": [
      "Mixing the ingredients\n",
      "Pouring the mixture into a frying pan\n",
      "drink water\n",
      "Cooking the first side\n",
      "Flipping it!\n",
      "Cooking the other side\n"
     ]
    },
    {
     "data": {
      "text/plain": [
       "\"a delicious ('cream', 'beans', 'toast') coffee\""
      ]
     },
     "execution_count": 35,
     "metadata": {},
     "output_type": "execute_result"
    }
   ],
   "source": [
    "make_coffee('cream','beans','toast')"
   ]
  },
  {
   "cell_type": "code",
   "execution_count": 42,
   "metadata": {},
   "outputs": [],
   "source": [
    "def square_number(number):\n",
    "    result = number**2\n",
    "    return result"
   ]
  },
  {
   "cell_type": "code",
   "execution_count": 43,
   "metadata": {},
   "outputs": [
    {
     "data": {
      "text/plain": [
       "4"
      ]
     },
     "execution_count": 43,
     "metadata": {},
     "output_type": "execute_result"
    }
   ],
   "source": [
    "square_number(2)"
   ]
  },
  {
   "cell_type": "code",
   "execution_count": 45,
   "metadata": {},
   "outputs": [],
   "source": [
    "def add_two(number):\n",
    "    result = number+2\n",
    "    return result\n",
    "\n"
   ]
  },
  {
   "cell_type": "code",
   "execution_count": 46,
   "metadata": {},
   "outputs": [
    {
     "data": {
      "text/plain": [
       "9"
      ]
     },
     "execution_count": 46,
     "metadata": {},
     "output_type": "execute_result"
    }
   ],
   "source": [
    "add_two(7)\n"
   ]
  },
  {
   "cell_type": "code",
   "execution_count": 56,
   "metadata": {},
   "outputs": [],
   "source": [
    "def say_hello(name):\n",
    "    result = f' hello {name} hi '\n",
    "    return result"
   ]
  },
  {
   "cell_type": "code",
   "execution_count": 54,
   "metadata": {},
   "outputs": [
    {
     "data": {
      "text/plain": [
       "' hello grace hi '"
      ]
     },
     "execution_count": 54,
     "metadata": {},
     "output_type": "execute_result"
    }
   ],
   "source": [
    "say_hello ('grace')"
   ]
  },
  {
   "cell_type": "code",
   "execution_count": 57,
   "metadata": {},
   "outputs": [
    {
     "data": {
      "text/plain": [
       "' hello jakub hi '"
      ]
     },
     "execution_count": 57,
     "metadata": {},
     "output_type": "execute_result"
    }
   ],
   "source": [
    "say_hello ('jakub')"
   ]
  },
  {
   "cell_type": "code",
   "execution_count": null,
   "metadata": {},
   "outputs": [],
   "source": []
  }
 ],
 "metadata": {
  "kernelspec": {
   "display_name": "Python 3",
   "language": "python",
   "name": "python3"
  },
  "language_info": {
   "codemirror_mode": {
    "name": "ipython",
    "version": 3
   },
   "file_extension": ".py",
   "mimetype": "text/x-python",
   "name": "python",
   "nbconvert_exporter": "python",
   "pygments_lexer": "ipython3",
   "version": "3.7.6"
  }
 },
 "nbformat": 4,
 "nbformat_minor": 4
}
